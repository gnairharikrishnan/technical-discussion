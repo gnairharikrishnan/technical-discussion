{
  "nbformat": 4,
  "nbformat_minor": 0,
  "metadata": {
    "colab": {
      "name": "technical-doc.ipynb",
      "provenance": [],
      "authorship_tag": "ABX9TyPDhDIcPB8pltXPHhY8H2rg",
      "include_colab_link": true
    },
    "kernelspec": {
      "name": "python3",
      "display_name": "Python 3"
    },
    "language_info": {
      "name": "python"
    }
  },
  "cells": [
    {
      "cell_type": "markdown",
      "metadata": {
        "id": "view-in-github",
        "colab_type": "text"
      },
      "source": [
        "<a href=\"https://colab.research.google.com/github/gnairharikrishnan/technical-discussion/blob/main/technical_doc.ipynb\" target=\"_parent\"><img src=\"https://colab.research.google.com/assets/colab-badge.svg\" alt=\"Open In Colab\"/></a>"
      ]
    },
    {
      "cell_type": "markdown",
      "source": [
        "# Technical documentation\n",
        "\n",
        "This is a sample \"Hello world: Code snippet in python"
      ],
      "metadata": {
        "id": "m3s8MTXCfW_4"
      }
    },
    {
      "cell_type": "code",
      "source": [
        "def hello():\n",
        "   print(\"Hello World\")\n",
        "\n",
        "hello()"
      ],
      "metadata": {
        "colab": {
          "base_uri": "https://localhost:8080/"
        },
        "id": "GYX2sCP9fc9S",
        "outputId": "5414e13c-4c7c-4425-83ee-0bb349eb53c6"
      },
      "execution_count": 3,
      "outputs": [
        {
          "output_type": "stream",
          "name": "stdout",
          "text": [
            "Hello World\n"
          ]
        }
      ]
    },
    {
      "cell_type": "markdown",
      "source": [
        "## Meta data\n",
        "\n",
        "This section describes what type of content is on this document\n",
        "* Titles\n",
        "* Code samples\n",
        "* Meta data"
      ],
      "metadata": {
        "id": "Sr8DdkSWfgQl"
      }
    }
  ]
}