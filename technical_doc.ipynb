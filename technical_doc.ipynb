{
  "nbformat": 4,
  "nbformat_minor": 0,
  "metadata": {
    "colab": {
      "name": "technical-doc.ipynb",
      "provenance": [],
      "authorship_tag": "ABX9TyOO+R5KfeVcOcgtxVMkMbps",
      "include_colab_link": true
    },
    "kernelspec": {
      "name": "python3",
      "display_name": "Python 3"
    },
    "language_info": {
      "name": "python"
    }
  },
  "cells": [
    {
      "cell_type": "markdown",
      "metadata": {
        "id": "view-in-github",
        "colab_type": "text"
      },
      "source": [
        "<a href=\"https://colab.research.google.com/github/gnairharikrishnan/technical-discussion/blob/main/technical_doc.ipynb\" target=\"_parent\"><img src=\"https://colab.research.google.com/assets/colab-badge.svg\" alt=\"Open In Colab\"/></a>"
      ]
    },
    {
      "cell_type": "markdown",
      "source": [
        "# Technical documentation"
      ],
      "metadata": {
        "id": "m3s8MTXCfW_4"
      }
    },
    {
      "cell_type": "code",
      "source": [
        "def hello():\n",
        "   return \"Hi\"\n",
        "hello()"
      ],
      "metadata": {
        "colab": {
          "base_uri": "https://localhost:8080/",
          "height": 36
        },
        "id": "GYX2sCP9fc9S",
        "outputId": "0e630910-c78e-4773-e93e-333d5dbba804"
      },
      "execution_count": 3,
      "outputs": [
        {
          "output_type": "execute_result",
          "data": {
            "application/vnd.google.colaboratory.intrinsic+json": {
              "type": "string"
            },
            "text/plain": [
              "'Hi'"
            ]
          },
          "metadata": {},
          "execution_count": 3
        }
      ]
    },
    {
      "cell_type": "markdown",
      "source": [
        "## EDA"
      ],
      "metadata": {
        "id": "Sr8DdkSWfgQl"
      }
    },
    {
      "cell_type": "markdown",
      "source": [
        "## Modeling\n",
        "\n",
        "* one \n",
        "* two\n",
        "* three"
      ],
      "metadata": {
        "id": "0uoByA9ufipK"
      }
    }
  ]
}